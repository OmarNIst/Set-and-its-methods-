{
 "cells": [
  {
   "cell_type": "code",
   "execution_count": 4,
   "metadata": {},
   "outputs": [
    {
     "name": "stdout",
     "output_type": "stream",
     "text": [
      "{'Omar', 2, 'Danya'}\n"
     ]
    },
    {
     "ename": "TypeError",
     "evalue": "'set' object is not subscriptable",
     "output_type": "error",
     "traceback": [
      "\u001b[1;31m---------------------------------------------------------------------------\u001b[0m",
      "\u001b[1;31mTypeError\u001b[0m                                 Traceback (most recent call last)",
      "\u001b[1;32mUntitled-1.ipynb Cell 1\u001b[0m line \u001b[0;36m4\n\u001b[0;32m      <a href='vscode-notebook-cell:Untitled-1.ipynb?jupyter-notebook#W0sdW50aXRsZWQ%3D?line=1'>2</a>\u001b[0m S_1 \u001b[39m=\u001b[39m {\u001b[39m\"\u001b[39m\u001b[39mOmar\u001b[39m\u001b[39m\"\u001b[39m, \u001b[39m\"\u001b[39m\u001b[39mDanya\u001b[39m\u001b[39m\"\u001b[39m , \u001b[39m2\u001b[39m}\n\u001b[0;32m      <a href='vscode-notebook-cell:Untitled-1.ipynb?jupyter-notebook#W0sdW50aXRsZWQ%3D?line=2'>3</a>\u001b[0m \u001b[39mprint\u001b[39m(S_1)\n\u001b[1;32m----> <a href='vscode-notebook-cell:Untitled-1.ipynb?jupyter-notebook#W0sdW50aXRsZWQ%3D?line=3'>4</a>\u001b[0m \u001b[39mprint\u001b[39m(S_1[\u001b[39m0\u001b[39;49m])\n\u001b[0;32m      <a href='vscode-notebook-cell:Untitled-1.ipynb?jupyter-notebook#W0sdW50aXRsZWQ%3D?line=4'>5</a>\u001b[0m \u001b[39m# Set is not Ordered and not Indexed\u001b[39;00m\n",
      "\u001b[1;31mTypeError\u001b[0m: 'set' object is not subscriptable"
     ]
    }
   ],
   "source": [
    "##### Set #####\n",
    "S_1 = {\"Omar\", \"Danya\" , 2}\n",
    "print(S_1)\n",
    "print(S_1[0])\n",
    "# Set is not Ordered and not Indexed"
   ]
  },
  {
   "cell_type": "code",
   "execution_count": 6,
   "metadata": {},
   "outputs": [
    {
     "name": "stdout",
     "output_type": "stream",
     "text": [
      "(8, 5, 2)\n"
     ]
    },
    {
     "ename": "TypeError",
     "evalue": "'set' object is not subscriptable",
     "output_type": "error",
     "traceback": [
      "\u001b[1;31m---------------------------------------------------------------------------\u001b[0m",
      "\u001b[1;31mTypeError\u001b[0m                                 Traceback (most recent call last)",
      "\u001b[1;32mUntitled-1.ipynb Cell 2\u001b[0m line \u001b[0;36m6\n\u001b[0;32m      <a href='vscode-notebook-cell:Untitled-1.ipynb?jupyter-notebook#W1sdW50aXRsZWQ%3D?line=3'>4</a>\u001b[0m \u001b[39mprint\u001b[39m(Tuple_1[\u001b[39m0\u001b[39m:\u001b[39m3\u001b[39m])\n\u001b[0;32m      <a href='vscode-notebook-cell:Untitled-1.ipynb?jupyter-notebook#W1sdW50aXRsZWQ%3D?line=4'>5</a>\u001b[0m S_2 \u001b[39m=\u001b[39m (\u001b[39m8\u001b[39m,\u001b[39m5\u001b[39m,\u001b[39m2\u001b[39m,\u001b[39m64\u001b[39m,\u001b[39m6\u001b[39m,\u001b[39m7\u001b[39m)\n\u001b[1;32m----> <a href='vscode-notebook-cell:Untitled-1.ipynb?jupyter-notebook#W1sdW50aXRsZWQ%3D?line=5'>6</a>\u001b[0m \u001b[39mprint\u001b[39m(S_1[\u001b[39m0\u001b[39;49m:\u001b[39m3\u001b[39;49m])\n",
      "\u001b[1;31mTypeError\u001b[0m: 'set' object is not subscriptable"
     ]
    }
   ],
   "source": [
    "### Set ###\n",
    "# Set Indexing and Slicing can not be Done\n",
    "Tuple_1 = (8,5,2,64,6,7)\n",
    "print(Tuple_1[0:3])\n",
    "S_2 = (8,5,2,64,6,7)\n",
    "print(S_1[0:3])"
   ]
  },
  {
   "cell_type": "code",
   "execution_count": 7,
   "metadata": {},
   "outputs": [
    {
     "ename": "TypeError",
     "evalue": "unhashable type: 'list'",
     "output_type": "error",
     "traceback": [
      "\u001b[1;31m---------------------------------------------------------------------------\u001b[0m",
      "\u001b[1;31mTypeError\u001b[0m                                 Traceback (most recent call last)",
      "\u001b[1;32mUntitled-1.ipynb Cell 3\u001b[0m line \u001b[0;36m1\n\u001b[1;32m----> <a href='vscode-notebook-cell:Untitled-1.ipynb?jupyter-notebook#W2sdW50aXRsZWQ%3D?line=0'>1</a>\u001b[0m S_3 \u001b[39m=\u001b[39m {\u001b[39m\"\u001b[39m\u001b[39mDanya\u001b[39m\u001b[39m\"\u001b[39m , \u001b[39m100\u001b[39m , \u001b[39m100.5\u001b[39m , \u001b[39mTrue\u001b[39;00m , [\u001b[39m1\u001b[39m,\u001b[39m2\u001b[39m,\u001b[39m3\u001b[39m]}\n\u001b[0;32m      <a href='vscode-notebook-cell:Untitled-1.ipynb?jupyter-notebook#W2sdW50aXRsZWQ%3D?line=1'>2</a>\u001b[0m \u001b[39mprint\u001b[39m(S_3)\n",
      "\u001b[1;31mTypeError\u001b[0m: unhashable type: 'list'"
     ]
    }
   ],
   "source": [
    "# Set only Immutable Data\n",
    "S_3 = {\"Danya\" , 100 , 100.5 , True , [1,2,3]}    #unhashable type : 'List'\n",
    "print(S_3)"
   ]
  },
  {
   "cell_type": "code",
   "execution_count": 9,
   "metadata": {},
   "outputs": [
    {
     "name": "stdout",
     "output_type": "stream",
     "text": [
      "{True, 100.5, 100, (1, 2, 3), 'Danya'}\n"
     ]
    }
   ],
   "source": [
    "#Set has only Immutable Data types ( Number , Strings, Tuples) List and Dirt Are Not\n",
    "S_4 = {\"Danya\" , 100 , 100.5 , True , (1,2,3)}    #unhashable type : 'List'\n",
    "print(S_4)"
   ]
  },
  {
   "cell_type": "code",
   "execution_count": 11,
   "metadata": {},
   "outputs": [
    {
     "name": "stdout",
     "output_type": "stream",
     "text": [
      "{'Love', 1, 2, 7, 'Omar', 'Danya'}\n"
     ]
    }
   ],
   "source": [
    "# Set Items are unique , Does not repeated \n",
    "S_5 = {2,7,\"Omar\",\"Danya\",\"Love\",1,2}\n",
    "print(S_5)"
   ]
  },
  {
   "cell_type": "code",
   "execution_count": 13,
   "metadata": {},
   "outputs": [
    {
     "name": "stdout",
     "output_type": "stream",
     "text": [
      "{1, 2, 3}\n",
      "set()\n"
     ]
    }
   ],
   "source": [
    "# Set Methods \n",
    "# ------ clear ------\n",
    "a = {1,2,3}\n",
    "print(a)\n",
    "a.clear()  # To remove all elements from the set\n",
    "print(a)"
   ]
  },
  {
   "cell_type": "code",
   "execution_count": 18,
   "metadata": {},
   "outputs": [
    {
     "name": "stdout",
     "output_type": "stream",
     "text": [
      "{'1', '3', '2', 'One', 'Two', 'Three'}\n",
      "{'1', '3', '2', 'One', 'Two', 'Three'}\n"
     ]
    },
    {
     "ename": "AttributeError",
     "evalue": "'list' object has no attribute 'union'",
     "output_type": "error",
     "traceback": [
      "\u001b[1;31m---------------------------------------------------------------------------\u001b[0m",
      "\u001b[1;31mAttributeError\u001b[0m                            Traceback (most recent call last)",
      "\u001b[1;32mUntitled-1.ipynb Cell 7\u001b[0m line \u001b[0;36m1\n\u001b[0;32m     <a href='vscode-notebook-cell:Untitled-1.ipynb?jupyter-notebook#W6sdW50aXRsZWQ%3D?line=9'>10</a>\u001b[0m g \u001b[39m=\u001b[39m [\u001b[39m\"\u001b[39m\u001b[39mOne\u001b[39m\u001b[39m\"\u001b[39m , \u001b[39m\"\u001b[39m\u001b[39mTwo\u001b[39m\u001b[39m\"\u001b[39m, \u001b[39m\"\u001b[39m\u001b[39mThree\u001b[39m\u001b[39m\"\u001b[39m]\n\u001b[0;32m     <a href='vscode-notebook-cell:Untitled-1.ipynb?jupyter-notebook#W6sdW50aXRsZWQ%3D?line=10'>11</a>\u001b[0m f \u001b[39m=\u001b[39m [\u001b[39m\"\u001b[39m\u001b[39m1\u001b[39m\u001b[39m\"\u001b[39m,\u001b[39m\"\u001b[39m\u001b[39m2\u001b[39m\u001b[39m\"\u001b[39m,\u001b[39m\"\u001b[39m\u001b[39m3\u001b[39m\u001b[39m\"\u001b[39m]\n\u001b[1;32m---> <a href='vscode-notebook-cell:Untitled-1.ipynb?jupyter-notebook#W6sdW50aXRsZWQ%3D?line=11'>12</a>\u001b[0m \u001b[39mprint\u001b[39m(g\u001b[39m.\u001b[39;49munion(f))\n\u001b[0;32m     <a href='vscode-notebook-cell:Untitled-1.ipynb?jupyter-notebook#W6sdW50aXRsZWQ%3D?line=12'>13</a>\u001b[0m \u001b[39mprint\u001b[39m(g \u001b[39m|\u001b[39m f)\n",
      "\u001b[1;31mAttributeError\u001b[0m: 'list' object has no attribute 'union'"
     ]
    }
   ],
   "source": [
    "# Set Methods \n",
    "# ------ Union() ------\n",
    "b = {\"One\" , \"Two\", \"Three\"}\n",
    "c = {\"1\",\"2\",\"3\"}\n",
    "print(b | c)\n",
    "\n",
    "print(b.union(c))\n",
    "\n",
    "\n",
    "g = [\"One\" , \"Two\", \"Three\"]\n",
    "f = [\"1\",\"2\",\"3\"]\n",
    "print(g.union(f)) # Error\n",
    "print(g | f)      # Error\n",
    "                 "
   ]
  },
  {
   "cell_type": "code",
   "execution_count": 22,
   "metadata": {},
   "outputs": [
    {
     "name": "stdout",
     "output_type": "stream",
     "text": [
      "{1, 2, 3, 4, 5, 6}\n"
     ]
    }
   ],
   "source": [
    "# Set Methods \n",
    "# ------ add ------\n",
    "d = {1,2,3,4}\n",
    "d.add(5)\n",
    "d.add(6)\n",
    "#d.add({7,9})    Error  /   d.print((7,9))\n",
    "print(d)"
   ]
  },
  {
   "cell_type": "code",
   "execution_count": 25,
   "metadata": {},
   "outputs": [
    {
     "name": "stdout",
     "output_type": "stream",
     "text": [
      "{1, 2, 3, 4}\n",
      "{1, 2, 3, 4}\n",
      "{1, 2, 3, 4, 6}\n",
      "{1, 2, 3, 4}\n"
     ]
    }
   ],
   "source": [
    "e = {1,2,3,4}\n",
    "f = e.copy()\n",
    "print(e)\n",
    "print(f)\n",
    "\n",
    "\n",
    "e.add(6)\n",
    "\n",
    "print(e)\n",
    "print(f)"
   ]
  },
  {
   "cell_type": "code",
   "execution_count": 28,
   "metadata": {},
   "outputs": [
    {
     "name": "stdout",
     "output_type": "stream",
     "text": [
      "{2, 3, 4}\n"
     ]
    },
    {
     "ename": "KeyError",
     "evalue": "7",
     "output_type": "error",
     "traceback": [
      "\u001b[1;31m---------------------------------------------------------------------------\u001b[0m",
      "\u001b[1;31mKeyError\u001b[0m                                  Traceback (most recent call last)",
      "\u001b[1;32mUntitled-1.ipynb Cell 10\u001b[0m line \u001b[0;36m6\n\u001b[0;32m      <a href='vscode-notebook-cell:Untitled-1.ipynb?jupyter-notebook#X12sdW50aXRsZWQ%3D?line=3'>4</a>\u001b[0m g\u001b[39m.\u001b[39mremove(\u001b[39m1\u001b[39m)\n\u001b[0;32m      <a href='vscode-notebook-cell:Untitled-1.ipynb?jupyter-notebook#X12sdW50aXRsZWQ%3D?line=4'>5</a>\u001b[0m \u001b[39mprint\u001b[39m(g)\n\u001b[1;32m----> <a href='vscode-notebook-cell:Untitled-1.ipynb?jupyter-notebook#X12sdW50aXRsZWQ%3D?line=5'>6</a>\u001b[0m g\u001b[39m.\u001b[39;49mremove(\u001b[39m7\u001b[39;49m)     \u001b[39m# 7 Is already not exist\u001b[39;00m\n\u001b[0;32m      <a href='vscode-notebook-cell:Untitled-1.ipynb?jupyter-notebook#X12sdW50aXRsZWQ%3D?line=6'>7</a>\u001b[0m \u001b[39mprint\u001b[39m(g)\n",
      "\u001b[1;31mKeyError\u001b[0m: 7"
     ]
    }
   ],
   "source": [
    "# Set Methods \n",
    "# ------ remove ------\n",
    "g = {1,2,3,4}\n",
    "g.remove(1)\n",
    "print(g)\n",
    "g.remove(7)     # 7 Is already not exist\n",
    "print(g)"
   ]
  },
  {
   "cell_type": "code",
   "execution_count": 30,
   "metadata": {},
   "outputs": [
    {
     "name": "stdout",
     "output_type": "stream",
     "text": [
      "{2, 3, 4}\n"
     ]
    }
   ],
   "source": [
    "# Set Methods \n",
    "# ------ discard ------\n",
    "t = {1,2,3,4}\n",
    "t.discard(1)\n",
    "t.discard(7)  # 7 Is already not exist // even if it is note exist  it work without Error\n",
    "print(t)"
   ]
  },
  {
   "cell_type": "code",
   "execution_count": 56,
   "metadata": {},
   "outputs": [
    {
     "name": "stdout",
     "output_type": "stream",
     "text": [
      "True\n"
     ]
    }
   ],
   "source": [
    "# pop         takes random elements form the set\n",
    "i = {\"A\", True,1,2,3,4,5}\n",
    "print(i.pop())"
   ]
  },
  {
   "cell_type": "code",
   "execution_count": 57,
   "metadata": {},
   "outputs": [
    {
     "name": "stdout",
     "output_type": "stream",
     "text": [
      "{1, 2, 3, 4, 'A', 'B'}\n"
     ]
    }
   ],
   "source": [
    "#  update()\n",
    "\n",
    "j = {1,2,3,4}\n",
    "k = {1,\"A\",\"B\",2}\n",
    "\n",
    "j.update(k)     ## it is the same as union \n",
    "print(j)"
   ]
  },
  {
   "cell_type": "code",
   "execution_count": 68,
   "metadata": {},
   "outputs": [
    {
     "name": "stdout",
     "output_type": "stream",
     "text": [
      "{1, 2, 3, 4}\n",
      "{3, 4}\n",
      "{1, 2, 3, 4}\n",
      "==================================================\n"
     ]
    }
   ],
   "source": [
    "#--Set Methods--\n",
    "#--difference--  # to find what are the elements that are founded in the first set and do not exist in the second  set.\n",
    "\n",
    "a = {1,2,3,4}\n",
    "b = {1,2,\"Osama\",\"Ahmed\"} \n",
    "print(a)\n",
    "print(a.difference(b))\n",
    "print(a)\n",
    "print(\"=\" * 50)"
   ]
  },
  {
   "cell_type": "code",
   "execution_count": 70,
   "metadata": {},
   "outputs": [
    {
     "name": "stdout",
     "output_type": "stream",
     "text": [
      "{1, 2, 3, 4}\n",
      "None\n",
      "{4}\n"
     ]
    }
   ],
   "source": [
    "# difference_update()\n",
    "c = {1,2,3,4}\n",
    "d = {1,2,3,\"Osama\",\"Ahmed\"} \n",
    "print(c)\n",
    "print(c.difference_update(d))\n",
    "print(c)"
   ]
  },
  {
   "cell_type": "code",
   "execution_count": 77,
   "metadata": {},
   "outputs": [
    {
     "name": "stdout",
     "output_type": "stream",
     "text": [
      "{1, 2, 3, ' Osama ', 4, 'x'}\n",
      "{2}\n",
      "{1, 2, 3, ' Osama ', 4, 'x'}\n"
     ]
    }
   ],
   "source": [
    "# intersection \n",
    "\n",
    "e = {1,2,3,4,\"x\", \" Osama \"}\n",
    "f = {\"Osama\", \"X\", 2}\n",
    "print(e)\n",
    "\n",
    "print(e.intersection(f))   #  e & f\n",
    "print(e)"
   ]
  },
  {
   "cell_type": "code",
   "execution_count": 78,
   "metadata": {},
   "outputs": [
    {
     "name": "stdout",
     "output_type": "stream",
     "text": [
      "{1, 2, 3, ' Osama ', 4, 'x'}\n",
      "None\n",
      "{2}\n"
     ]
    }
   ],
   "source": [
    "# intersection_update()\n",
    "\n",
    "\n",
    "g = {1,2,3,4,\"x\", \" Osama \"}\n",
    "h = {\"Osama\", \"X\", 2}\n",
    "print(g)\n",
    "\n",
    "print(g.intersection_update(h))   #  e & f\n",
    "print(g)"
   ]
  },
  {
   "cell_type": "code",
   "execution_count": 85,
   "metadata": {},
   "outputs": [
    {
     "name": "stdout",
     "output_type": "stream",
     "text": [
      "{1, 2, 3, 4, 5, 'x'}\n",
      "{5, 'x', 'Zero', 'Osama'}\n",
      "{1, 2, 3, 4, 5, 'x'}\n"
     ]
    }
   ],
   "source": [
    "#   symmetric_difference()\n",
    "i = {1,2,3,4,5,\"x\"}\n",
    "j = {\"Osama\",\"Zero\",1,2,3,4}\n",
    "print(i)\n",
    "print(i.symmetric_difference(j))     # i^j\n",
    "print(i)"
   ]
  },
  {
   "cell_type": "code",
   "execution_count": 87,
   "metadata": {},
   "outputs": [
    {
     "name": "stdout",
     "output_type": "stream",
     "text": [
      "{1, 2, 3, 4, 5, 'x'}\n",
      "{5, 'Osama', 'Zero'}\n",
      "{1, 2, 3, 4, 5, 'x'}\n"
     ]
    }
   ],
   "source": [
    "#   symmetric_difference()\n",
    "i = {1,2,3,4,5,\"x\"}\n",
    "j = {\"Osama\",\"Zero\",1,2,3,4,\"x\"}\n",
    "print(i)\n",
    "print(i.symmetric_difference(j))     # i^j    # This method Shows the elements that does not exist in both sets \n",
    "print(i)"
   ]
  },
  {
   "cell_type": "code",
   "execution_count": 89,
   "metadata": {},
   "outputs": [
    {
     "name": "stdout",
     "output_type": "stream",
     "text": [
      "{1, 2, 3, 4, 5, 'x'}\n",
      "None\n",
      "{5, 'Osama', 'Zero'}\n"
     ]
    }
   ],
   "source": [
    "#   symmetric_difference()_update\n",
    "\n",
    "k = {1,2,3,4,5,\"x\"}\n",
    "l = {\"Osama\",\"Zero\",1,2,3,4,\"x\"}\n",
    "print(k)\n",
    "print(k.symmetric_difference_update(j))     # update the original set and delet the other \n",
    "print(k)"
   ]
  },
  {
   "cell_type": "code",
   "execution_count": 2,
   "metadata": {},
   "outputs": [
    {
     "name": "stdout",
     "output_type": "stream",
     "text": [
      "True\n",
      "False\n"
     ]
    }
   ],
   "source": [
    "#----- Set Methods ----  # The methods here help for boolean values\n",
    "# If I have two sets and if I want to know if that all elements in one set are exist in the original set\n",
    "\n",
    "# issuperset()\n",
    "a = {1,2,3,4}\n",
    "b = {1,2,3}\n",
    "\n",
    "print(a.issuperset(b))\n",
    "\n",
    "# True because that all elements in b are exist in a\n",
    "\n",
    "c = {1,2,3,4,5}\n",
    "\n",
    "print(a.issuperset(c))\n",
    "\n",
    "#False because that not all elements in c are exist in a"
   ]
  },
  {
   "cell_type": "code",
   "execution_count": 6,
   "metadata": {},
   "outputs": [
    {
     "name": "stdout",
     "output_type": "stream",
     "text": [
      "False\n",
      "True\n",
      "True\n"
     ]
    }
   ],
   "source": [
    "#----- Set Methods ----  # The methods here help for boolean values\n",
    "#----- issubset() -----\n",
    "\n",
    "e = {1,2,3}\n",
    "d = {1,2,3,4}\n",
    "f = {1,2,3,4,5}\n",
    "print(e.issuperset(d))\n",
    "print(e.issubset(d))\n",
    "print(d.issubset(f))"
   ]
  },
  {
   "cell_type": "code",
   "execution_count": 8,
   "metadata": {},
   "outputs": [
    {
     "name": "stdout",
     "output_type": "stream",
     "text": [
      "False\n",
      "True\n"
     ]
    }
   ],
   "source": [
    "#----- Set Methods ----  # The methods here help for boolean values\n",
    "#----- issdisjoint()-----  # to check if the two sets are disconnected from each other\n",
    "\n",
    "g = {1,2,3,4}\n",
    "h = {1,2,3}\n",
    "print(g.isdisjoint(h))\n",
    "# False because that both of g , h have  common elements \n",
    "\n",
    "i = {10 , 11 , 12}\n",
    "\n",
    "print(g.isdisjoint(i)) \n",
    "# True because that both g and i does not have common elements "
   ]
  }
 ],
 "metadata": {
  "kernelspec": {
   "display_name": "Python 3",
   "language": "python",
   "name": "python3"
  },
  "language_info": {
   "codemirror_mode": {
    "name": "ipython",
    "version": 3
   },
   "file_extension": ".py",
   "mimetype": "text/x-python",
   "name": "python",
   "nbconvert_exporter": "python",
   "pygments_lexer": "ipython3",
   "version": "3.11.2"
  }
 },
 "nbformat": 4,
 "nbformat_minor": 2
}
